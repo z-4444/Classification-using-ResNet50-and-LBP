{
 "cells": [
  {
   "cell_type": "code",
   "execution_count": 1,
   "id": "8365f28a",
   "metadata": {},
   "outputs": [
    {
     "name": "stdout",
     "output_type": "stream",
     "text": [
      "{\"class_label\":\"Shoe\"}\n",
      "\n"
     ]
    }
   ],
   "source": [
    "import requests\n",
    "\n",
    "import json\n",
    "\n",
    "import base64\n",
    "\n",
    "image_path='boot.jpeg'\n",
    "\n",
    "with open(image_path, \"rb\") as f:\n",
    "\n",
    "  image_bytes = f.read()\n",
    "\n",
    "image_base64 = base64.b64encode(image_bytes).decode()\n",
    "\n",
    "# Create JSON payload with image\n",
    "\n",
    "payload = {\"image\": image_base64}\n",
    "# print(payload)\n",
    "\n",
    "# Send POST request to Flask API\n",
    "\n",
    "url = 'http://172.17.0.2:5000/test'\n",
    "\n",
    "headers = {\"Content-Type\": \"application/json\"}\n",
    "\n",
    "response = requests.post(url, headers=headers, data=json.dumps(payload))\n",
    "\n",
    "print(response.text)"
   ]
  },
  {
   "cell_type": "code",
   "execution_count": 2,
   "id": "d48b16fc",
   "metadata": {},
   "outputs": [
    {
     "name": "stdout",
     "output_type": "stream",
     "text": [
      "{\"class_label\":\"Shoe\"}\n",
      "\n",
      "{\"class_label\":\"Sandal\"}\n",
      "\n",
      "{\"class_label\":\"Shoe\"}\n",
      "\n"
     ]
    }
   ],
   "source": [
    "import concurrent.futures\n",
    "import requests\n",
    "import json\n",
    "import base64\n",
    "\n",
    "def process_image(image_path):\n",
    "    with open(image_path, \"rb\") as f:\n",
    "        image_bytes = f.read()\n",
    "    image_base64 = base64.b64encode(image_bytes).decode()\n",
    "\n",
    "    payload = {\"image\": image_base64}\n",
    "    url = 'http://192.168.1.56:5000/test'\n",
    "    headers = {\"Content-Type\": \"application/json\"}\n",
    "\n",
    "    response = requests.post(url, headers=headers, data=json.dumps(payload))\n",
    "\n",
    "    return response.text\n",
    "\n",
    "# List of image paths\n",
    "image_paths = ['boot.jpeg', 'sandal.jpeg', 'Shoe.jpg']\n",
    "\n",
    "# Process images using ThreadPoolExecutor\n",
    "with concurrent.futures.ThreadPoolExecutor() as executor:\n",
    "    results = list(executor.map(process_image, image_paths))\n",
    "\n",
    "# Print results\n",
    "for result in results:\n",
    "    print(result)\n"
   ]
  },
  {
   "cell_type": "code",
   "execution_count": null,
   "id": "12a2e4d2",
   "metadata": {},
   "outputs": [],
   "source": []
  }
 ],
 "metadata": {
  "kernelspec": {
   "display_name": "Python 3 (ipykernel)",
   "language": "python",
   "name": "python3"
  },
  "language_info": {
   "codemirror_mode": {
    "name": "ipython",
    "version": 3
   },
   "file_extension": ".py",
   "mimetype": "text/x-python",
   "name": "python",
   "nbconvert_exporter": "python",
   "pygments_lexer": "ipython3",
   "version": "3.10.9"
  }
 },
 "nbformat": 4,
 "nbformat_minor": 5
}
